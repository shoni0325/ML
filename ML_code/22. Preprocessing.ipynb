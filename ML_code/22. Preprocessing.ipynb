{
 "cells": [
  {
   "cell_type": "code",
   "execution_count": 1,
   "metadata": {},
   "outputs": [],
   "source": [
    "from sklearn.model_selection import train_test_split\n",
    "from sklearn.linear_model import LinearRegression\n",
    "from sklearn.metrics import mean_squared_error, r2_score\n",
    "\n",
    "from sklearn.preprocessing import PolynomialFeatures\n",
    "from sklearn.linear_model import LinearRegression\n",
    "from sklearn.pipeline import Pipeline\n",
    "import numpy as np\n",
    "import pandas as pd\n",
    "import matplotlib.pyplot as plt\n",
    "%matplotlib inline\n",
    "import seaborn as sns\n"
   ]
  },
  {
   "attachments": {},
   "cell_type": "markdown",
   "metadata": {},
   "source": [
    "사전 자료 로드"
   ]
  },
  {
   "cell_type": "code",
   "execution_count": 2,
   "metadata": {},
   "outputs": [],
   "source": [
    "# 20\n",
    "\n",
    "# boston 데이터셋 로드\n",
    "boston= pd.read_csv(\"C:/apps/ml_7/datasets/Boston.csv\", index_col=0)\n",
    "\n",
    "# boston dataset의 target array는 주택 가격\n",
    "y_target = boston['medv']\n",
    "X_data = boston.drop('medv', axis=1)\n",
    "\n",
    "# print(boston.shape)\n",
    "# boston.head()\n",
    "\n",
    "X_train, X_test, y_train, y_test = train_test_split(X_data, y_target, test_size=0.3, random_state=156)\n",
    "\n",
    "# Pipeline 객체로 streamline 하게 Polynomial Feature변환과 Linear Regression을 연결\n",
    "p_model = Pipeline([('poly', PolynomialFeatures(degree=2, include_bias=False)), ('linear', LinearRegression())])\n",
    "\n",
    "p_model\n",
    "# 파이프라인 구축\n",
    "Pipeline(memory=None,\n",
    "         steps=[('poly',\n",
    "                 PolynomialFeatures(degree=2, include_bias=False,\n",
    "                                    interaction_only=False, order='C')),\n",
    "                ('Linear', \n",
    "                 LinearRegression(copy_X=True, fit_intercept=True, n_jobs=None))],\n",
    "        verbose=False)\n",
    "\n",
    "p_model.fit(X_train, y_train)\n",
    "y_preds = p_model.predict(X_test)\n",
    "mse = mean_squared_error(y_test, y_preds)\n",
    "rmse = np.sqrt(mse)\n",
    "\n",
    "# print('MSE : {0:.3f}, RMSE : {1:.3f}'.format(mse, rmse))\n",
    "# print('Variance score : {0:.3f}'.format(r2_score(y_test, y_preds)))\n",
    "\n",
    "\n",
    "p_model = Pipeline([('poly', PolynomialFeatures(degree=3, include_bias=False)),\n",
    "                    ('linear', LinearRegression())])\n",
    "\n",
    "p_model.fit(X_train, y_train)\n",
    "y_preds = p_model.predict(X_test)\n",
    "mse = mean_squared_error(y_test, y_preds)\n",
    "rmse = np.sqrt(mse)\n",
    "\n",
    "# print('MSE : {0:.3f}, RMSE : {1:.3f}'.format(mse, rmse))\n",
    "# print('Variance score : {0:.3f}'.format(r2_score(y_test, y_preds)))"
   ]
  },
  {
   "cell_type": "code",
   "execution_count": 3,
   "metadata": {},
   "outputs": [],
   "source": [
    "#  앞의 LinearRegression예제에서 분할한 feature 데이터 셋인 X_data과 Target 데이터 셋인 y_target 데이터 셋을 그대로 이용\n",
    "from sklearn.linear_model import Ridge\n",
    "from sklearn.model_selection import cross_val_score"
   ]
  },
  {
   "cell_type": "code",
   "execution_count": 4,
   "metadata": {},
   "outputs": [],
   "source": [
    "# 21\n",
    "\n",
    "from sklearn.linear_model import Lasso, ElasticNet\n",
    "\n",
    "# alpha 값에 따른 회귀 모델의 폴드 평균 RMSE를 출력하고, 회귀계수 값들을 DF로 반환해주는 함수\n",
    "\n",
    "def get_linear_reg_eval(model_name, params = None, X_data_n = None, y_target_n = None, verbose = True) :\n",
    "    coeff_df = pd.DataFrame()\n",
    "\n",
    "    if verbose : print ('####### ', model_name , '#######')\n",
    "\n",
    "    for param in params :\n",
    "        if model_name == 'Ridge' : model = Ridge(alpha=param)\n",
    "        elif model_name == 'Lasso' : model = Lasso(alpha=param)\n",
    "        elif model_name == 'ElasticNet' : model = ElasticNet(alpha=param, l1_ratio=0.7)\n",
    "        neg_mse_scores = cross_val_score(model, X_data_n, y_target_n, scoring=\"neg_mean_squared_error\", cv=5)\n",
    "        avg_rmse = np.mean(np.sqrt(-1 * neg_mse_scores))\n",
    "        \n",
    "        print(f'alpha {param}일 때 5 폴드 세트의 평균 RSME : {avg_rmse:.3f}')\n",
    "\n",
    "\n",
    "        # cross_cal_score는 evaluation metric만 반환하므로 모델을 다시 학습하여 회귀 계수 추출\n",
    "        model.fit(X_data, y_target)\n",
    "\n",
    "        # alpha에 따른 피처별 회귀 계수를 Series로 변환하고 이를 DF의 컬럼으로 추가\n",
    "        coeff = pd.Series(data=model.coef_, index=X_data.columns)\n",
    "        colname = 'alpha : ' + str(param)\n",
    "        coeff_df[colname] = coeff\n",
    "\n",
    "    return coeff_df\n",
    "\n",
    "# end of get_linear_reg_eval"
   ]
  },
  {
   "attachments": {},
   "cell_type": "markdown",
   "metadata": {},
   "source": [
    "### 피처 데이터 변환에 따른 예측 성능 비교 실습"
   ]
  },
  {
   "attachments": {},
   "cell_type": "markdown",
   "metadata": {},
   "source": [
    "타겟값은 비교적 정규화가 잘 되어 있다. 피처값만 정규화를 해주면 된다"
   ]
  },
  {
   "cell_type": "code",
   "execution_count": 5,
   "metadata": {},
   "outputs": [
    {
     "name": "stdout",
     "output_type": "stream",
     "text": [
      "(506,)\n"
     ]
    },
    {
     "data": {
      "text/plain": [
       "(array([ 21.,  55.,  82., 154.,  84.,  41.,  30.,   8.,  10.,  21.]),\n",
       " array([ 5. ,  9.5, 14. , 18.5, 23. , 27.5, 32. , 36.5, 41. , 45.5, 50. ]),\n",
       " <BarContainer object of 10 artists>)"
      ]
     },
     "execution_count": 5,
     "metadata": {},
     "output_type": "execute_result"
    },
    {
     "data": {
      "image/png": "[encoded data removed]",
      "text/plain": [
       "<Figure size 640x480 with 1 Axes>"
      ]
     },
     "metadata": {},
     "output_type": "display_data"
    }
   ],
   "source": [
    "print(y_target.shape)\n",
    "plt.hist(y_target, bins=10)"
   ]
  },
  {
   "attachments": {},
   "cell_type": "markdown",
   "metadata": {},
   "source": [
    "데이터 전처리 (정규화, 로그변환)을 해주는 함수 정의"
   ]
  },
  {
   "cell_type": "code",
   "execution_count": 6,
   "metadata": {},
   "outputs": [],
   "source": [
    "from sklearn.preprocessing import StandardScaler, MinMaxScaler, PolynomialFeatures\n",
    "\n",
    "# method는 표준 정규 분포 변환 (Standard), 최대값/최소값 정규화 (MinMax), 로그변환 (Log) 결정\n",
    "# p_degree는 다항식 특성을 추가할 때 적용\n",
    "# p_degree는 2이상 부여하지 않음\n",
    "\n",
    "def get_scaled_data(method='None', p_degree=None, input_data=None) :\n",
    "\n",
    "    if method == 'Standard' :\n",
    "        scaled_data = StandardScaler().fit_transform(input_data)\n",
    "    elif method == 'MinMax' :\n",
    "        scaled_data = MinMaxScaler().fit_transform(input_data)\n",
    "    elif method == 'Log' :\n",
    "        scaled_data = np.log1p(input_data)\n",
    "    else :\n",
    "        scaled_data = input_data\n",
    "\n",
    "\n",
    "    if p_degree != None :\n",
    "        scaled_data = PolynomialFeatures(degree=p_degree, include_bias=False).fit_transform(scaled_data)\n",
    "\n",
    "    return scaled_data"
   ]
  },
  {
   "attachments": {},
   "cell_type": "markdown",
   "metadata": {},
   "source": [
    "결론"
   ]
  },
  {
   "cell_type": "code",
   "execution_count": 7,
   "metadata": {},
   "outputs": [
    {
     "name": "stdout",
     "output_type": "stream",
     "text": [
      "\n",
      "## 변환 유형 : None, Polynomial Degree : None\n",
      "alpha 0.1일 때 5 폴드 세트의 평균 RSME : 5.788\n",
      "alpha 1일 때 5 폴드 세트의 평균 RSME : 5.653\n",
      "alpha 10일 때 5 폴드 세트의 평균 RSME : 5.518\n",
      "alpha 100일 때 5 폴드 세트의 평균 RSME : 5.330\n",
      "\n",
      "## 변환 유형 : Standard, Polynomial Degree : None\n",
      "alpha 0.1일 때 5 폴드 세트의 평균 RSME : 5.826\n",
      "alpha 1일 때 5 폴드 세트의 평균 RSME : 5.803\n",
      "alpha 10일 때 5 폴드 세트의 평균 RSME : 5.637\n",
      "alpha 100일 때 5 폴드 세트의 평균 RSME : 5.421\n",
      "\n",
      "## 변환 유형 : Standard, Polynomial Degree : 2\n",
      "alpha 0.1일 때 5 폴드 세트의 평균 RSME : 8.827\n",
      "alpha 1일 때 5 폴드 세트의 평균 RSME : 6.871\n",
      "alpha 10일 때 5 폴드 세트의 평균 RSME : 5.485\n",
      "alpha 100일 때 5 폴드 세트의 평균 RSME : 4.634\n",
      "\n",
      "## 변환 유형 : MinMax, Polynomial Degree : None\n",
      "alpha 0.1일 때 5 폴드 세트의 평균 RSME : 5.764\n",
      "alpha 1일 때 5 폴드 세트의 평균 RSME : 5.465\n",
      "alpha 10일 때 5 폴드 세트의 평균 RSME : 5.754\n",
      "alpha 100일 때 5 폴드 세트의 평균 RSME : 7.635\n",
      "\n",
      "## 변환 유형 : MinMax, Polynomial Degree : 2\n",
      "alpha 0.1일 때 5 폴드 세트의 평균 RSME : 5.298\n",
      "alpha 1일 때 5 폴드 세트의 평균 RSME : 4.323\n",
      "alpha 10일 때 5 폴드 세트의 평균 RSME : 5.185\n",
      "alpha 100일 때 5 폴드 세트의 평균 RSME : 6.538\n",
      "\n",
      "## 변환 유형 : Log, Polynomial Degree : None\n",
      "alpha 0.1일 때 5 폴드 세트의 평균 RSME : 4.770\n",
      "alpha 1일 때 5 폴드 세트의 평균 RSME : 4.676\n",
      "alpha 10일 때 5 폴드 세트의 평균 RSME : 4.836\n",
      "alpha 100일 때 5 폴드 세트의 평균 RSME : 6.241\n"
     ]
    }
   ],
   "source": [
    "# Ridge의 alpha값을 다르게 적용하고 다양한 데이터 변환방법에 따른 RMSE 추출\n",
    "alphas = [0.1, 1, 10, 100]\n",
    "\n",
    "# 변환 방법은 모두 6개, 원본 그대로, 표준정규분포, 표준정규분포+다항식 특성, 최대/최소 정규화, 최대/최소 정규화+다항식 특성, 로그변환\n",
    "scale_methods = [(None, None), ('Standard', None), ('Standard', 2), ('MinMax', None), ('MinMax', 2), ('Log', None)]\n",
    "\n",
    "for scale_method in scale_methods :\n",
    "    X_data_scaled = get_scaled_data(method=scale_method[0], p_degree=scale_method[1], input_data=X_data)\n",
    "    print(f'\\n## 변환 유형 : {scale_method[0]}, Polynomial Degree : {scale_method[1]}')\n",
    "\n",
    "    # alpha값에 따른 회귀 모델의 폴드 평균 RMSE를 출력하고, 회귀 계수값들을 DF로 반환해주는 함수\n",
    "    get_linear_reg_eval('Ridge', params=alphas, X_data_n=X_data_scaled, y_target_n=y_target, verbose=False)"
   ]
  },
  {
   "cell_type": "code",
   "execution_count": null,
   "metadata": {},
   "outputs": [],
   "source": []
  }
 ],
 "metadata": {
  "kernelspec": {
   "display_name": "Python 3",
   "language": "python",
   "name": "python3"
  },
  "language_info": {
   "codemirror_mode": {
    "name": "ipython",
    "version": 3
   },
   "file_extension": ".py",
   "mimetype": "text/x-python",
   "name": "python",
   "nbconvert_exporter": "python",
   "pygments_lexer": "ipython3",
   "version": "3.10.9"
  },
  "orig_nbformat": 4
 },
 "nbformat": 4,
 "nbformat_minor": 2
}
