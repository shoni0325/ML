{
 "cells": [
  {
   "attachments": {},
   "cell_type": "markdown",
   "metadata": {},
   "source": [
    "## sklearn.metrics.precision_score\n",
    "* sklearn.metrics.precision_score(_y_true_, _y_pred_, _*_, _labels=None_, _pos_label=1_, _average='binary'_, _sample_weight=None_, _zero_division='warn'_)[[source]](https://github.com/scikit-learn/scikit-learn/blob/364c77e04/sklearn/metrics/_classification.py#L1825)[¶](https://scikit-learn.org/stable/modules/generated/sklearn.metrics.precision_score.html#sklearn.metrics.precision_score \"Permalink to this definition\")"
   ]
  },
  {
   "attachments": {},
   "cell_type": "markdown",
   "metadata": {},
   "source": [
    "## sklearn.metrics.recall_score\n",
    "\n",
    "* sklearn.metrics.recall_score(_y_true_, _y_pred_, _*_, _labels=None_, _pos_label=1_, _average='binary'_, _sample_weight=None_, _zero_division='warn'_)[[source]](https://github.com/scikit-learn/scikit-learn/blob/364c77e04/sklearn/metrics/_classification.py#L1967)[¶](https://scikit-learn.org/stable/modules/generated/sklearn.metrics.recall_score.html#sklearn.metrics.recall_score \"Permalink to this definition\")"
   ]
  },
  {
   "attachments": {},
   "cell_type": "markdown",
   "metadata": {},
   "source": [
    "## sklearn.metrics.f1_score\n",
    "\n",
    "* sklearn.metrics.f1_score(_y_true_, _y_pred_, _*_, _labels=None_, _pos_label=1_, _average='binary'_, _sample_weight=None_, _zero_division='warn'_)[[source]](https://github.com/scikit-learn/scikit-learn/blob/364c77e04/sklearn/metrics/_classification.py#L1011)[¶](https://scikit-learn.org/stable/modules/generated/sklearn.metrics.f1_score.html#sklearn.metrics.f1_score \"Permalink to this definition\")"
   ]
  },
  {
   "cell_type": "code",
   "execution_count": 54,
   "metadata": {},
   "outputs": [],
   "source": [
    "import pandas as pd\n",
    "import numpy as np\n",
    "import matplotlib.pyplot as plt\n",
    "import seaborn as sns\n",
    "\n",
    "# 깔끔하게 보이는 효과\n",
    "%matplotlib inline\n",
    "\n",
    "# Warning 무시\n",
    "import warnings\n",
    "warnings.filterwarnings('ignore')"
   ]
  },
  {
   "cell_type": "code",
   "execution_count": 55,
   "metadata": {},
   "outputs": [],
   "source": [
    "from sklearn.preprocessing import LabelEncoder"
   ]
  },
  {
   "cell_type": "code",
   "execution_count": 56,
   "metadata": {},
   "outputs": [],
   "source": [
    "# 7.titanic ML에서 만든 함수 가져오기\n",
    "\n",
    "# Null 처리 함수\n",
    "def fillna_1(df) :\n",
    "    df['Age'].fillna(df['Age'].mean(), inplace = True)\n",
    "    df['Cabin'].fillna('N', inplace = True)\n",
    "    df['Embarked'].fillna('N', inplace = True)\n",
    "    df['Fare'].fillna(0, inplace = True)\n",
    "\n",
    "    return df\n",
    "\n",
    "# 머신러닝 알고리즘에 불필요한 속성 제거\n",
    "def drop_features(df) :\n",
    "    df.drop(['PassengerId', 'Name', 'Ticket'], axis = 1, inplace = True)\n",
    "\n",
    "    return df\n",
    "\n",
    "# 레이블 인코딩 수행\n",
    "def format_features(df) :\n",
    "    df['Cabin'] = df['Cabin'].str[:1]\n",
    "    features = ['Cabin', 'Sex', 'Embarked']\n",
    "\n",
    "    for feature in features :\n",
    "        le = LabelEncoder()\n",
    "        le = le.fit(df[feature])\n",
    "        df[feature] = le.transform(df[feature])\n",
    "\n",
    "    return df\n",
    "\n",
    "# 앞에서 설정한 Data Preprocessing 함수 호출\n",
    "def transform_features(df) :\n",
    "    df = fillna_1(df)\n",
    "    df = drop_features(df)\n",
    "    df = format_features(df)\n",
    "\n",
    "    return df"
   ]
  },
  {
   "cell_type": "code",
   "execution_count": 57,
   "metadata": {},
   "outputs": [],
   "source": [
    "from sklearn.metrics import accuracy_score, precision_score, recall_score, confusion_matrix, f1_score\n",
    "from sklearn.model_selection import train_test_split\n",
    "from sklearn.linear_model import LogisticRegression"
   ]
  },
  {
   "cell_type": "code",
   "execution_count": 58,
   "metadata": {},
   "outputs": [],
   "source": [
    "def get_clf_eval(y_test, pred) :\n",
    "    confusion = confusion_matrix(y_test, pred)\n",
    "    accuracy = accuracy_score(y_test, pred)\n",
    "    precision = precision_score(y_test, pred)\n",
    "    recall = recall_score(y_test, pred)\n",
    "    f1Score = f1_score(y_test, pred)\n",
    "\n",
    "    print('오차행렬')\n",
    "    print(confusion)\n",
    "    # print('정확도 : {0:.4f}, 정밀도 : {1:.4f}, 재현율 : {2:.4f}, f1Score : {f1_score:.4f}'.format(accuracy, precision, recall, f1_score))\n",
    "    print(f'정확도 : {accuracy:.4f}, 정밀도 : {precision:.4f}, 재현율 : {recall:.4f}, f1Score : {f1Score:.4f}')"
   ]
  },
  {
   "cell_type": "code",
   "execution_count": 59,
   "metadata": {},
   "outputs": [],
   "source": [
    "# 원본 데이터를 재로딩, 데이터 가공, 학습 데이터/테스트 데이터 분할\n",
    "titanic_df = pd.read_csv('./datasets/titanic/titanic_train.csv')\n",
    "y_titanic_df = titanic_df['Survived']\n",
    "X_titanic_df= titanic_df.drop('Survived',axis=1)\n",
    "X_titanic_df = transform_features(X_titanic_df)"
   ]
  },
  {
   "cell_type": "code",
   "execution_count": 60,
   "metadata": {},
   "outputs": [
    {
     "name": "stdout",
     "output_type": "stream",
     "text": [
      "오차행렬\n",
      "[[104  14]\n",
      " [ 13  48]]\n",
      "정확도 : 0.8492, 정밀도 : 0.7742, 재현율 : 0.7869, f1Score : 0.7805\n"
     ]
    }
   ],
   "source": [
    "X_train, X_test, y_train, y_test = train_test_split(X_titanic_df, y_titanic_df, test_size=0.2, random_state=11)\n",
    "\n",
    "lr_clf = LogisticRegression()\n",
    "\n",
    "# LogisticRegression 학습/예측/평가\n",
    "lr_clf.fit(X_train, y_train)\n",
    "pred = lr_clf.predict(X_test)\n",
    "get_clf_eval(y_test, pred)"
   ]
  },
  {
   "cell_type": "code",
   "execution_count": 61,
   "metadata": {},
   "outputs": [],
   "source": [
    "lr_pred_proba = lr_clf.predict_proba(X_test)"
   ]
  },
  {
   "cell_type": "code",
   "execution_count": 62,
   "metadata": {},
   "outputs": [
    {
     "data": {
      "text/plain": [
       "array([[0.46174518, 0.53825482],\n",
       "       [0.87863674, 0.12136326],\n",
       "       [0.877169  , 0.122831  ],\n",
       "       [0.88269448, 0.11730552],\n",
       "       [0.85527328, 0.14472672],\n",
       "       [0.88225796, 0.11774204],\n",
       "       [0.8883857 , 0.1116143 ],\n",
       "       [0.20883193, 0.79116807],\n",
       "       [0.78289603, 0.21710397],\n",
       "       [0.36937528, 0.63062472],\n",
       "       [0.89982884, 0.10017116],\n",
       "       [0.87496895, 0.12503105],\n",
       "       [0.87716297, 0.12283703],\n",
       "       [0.88833936, 0.11166064],\n",
       "       [0.43648346, 0.56351654],\n",
       "       [0.85893176, 0.14106824],\n",
       "       [0.90373191, 0.09626809],\n",
       "       [0.73344545, 0.26655455],\n",
       "       [0.72478461, 0.27521539],\n",
       "       [0.17180968, 0.82819032],\n",
       "       [0.7536279 , 0.2463721 ],\n",
       "       [0.61929775, 0.38070225],\n",
       "       [0.8545664 , 0.1454336 ],\n",
       "       [0.81484913, 0.18515087],\n",
       "       [0.88796516, 0.11203484],\n",
       "       [0.7655459 , 0.2344541 ],\n",
       "       [0.85969246, 0.14030754],\n",
       "       [0.92585665, 0.07414335],\n",
       "       [0.7196165 , 0.2803835 ],\n",
       "       [0.69551089, 0.30448911],\n",
       "       [0.05274608, 0.94725392],\n",
       "       [0.18256309, 0.81743691],\n",
       "       [0.87321505, 0.12678495],\n",
       "       [0.17393851, 0.82606149],\n",
       "       [0.60070349, 0.39929651],\n",
       "       [0.7655459 , 0.2344541 ],\n",
       "       [0.92760243, 0.07239757],\n",
       "       [0.38877952, 0.61122048],\n",
       "       [0.94705825, 0.05294175],\n",
       "       [0.89605045, 0.10394955],\n",
       "       [0.64949324, 0.35050676],\n",
       "       [0.91664736, 0.08335264],\n",
       "       [0.17816097, 0.82183903],\n",
       "       [0.29227019, 0.70772981],\n",
       "       [0.36944521, 0.63055479],\n",
       "       [0.36942878, 0.63057122],\n",
       "       [0.08109216, 0.91890784],\n",
       "       [0.64132907, 0.35867093],\n",
       "       [0.05114132, 0.94885868],\n",
       "       [0.8879303 , 0.1120697 ],\n",
       "       [0.4069952 , 0.5930048 ],\n",
       "       [0.88833936, 0.11166064],\n",
       "       [0.86716296, 0.13283704],\n",
       "       [0.27478308, 0.72521692],\n",
       "       [0.6906867 , 0.3093133 ],\n",
       "       [0.80305116, 0.19694884],\n",
       "       [0.77373574, 0.22626426],\n",
       "       [0.87716795, 0.12283205],\n",
       "       [0.84574023, 0.15425977],\n",
       "       [0.56781133, 0.43218867],\n",
       "       [0.719911  , 0.280089  ],\n",
       "       [0.89921467, 0.10078533],\n",
       "       [0.45445826, 0.54554174],\n",
       "       [0.48640031, 0.51359969],\n",
       "       [0.55580164, 0.44419836],\n",
       "       [0.90537247, 0.09462753],\n",
       "       [0.33303666, 0.66696334],\n",
       "       [0.40570514, 0.59429486],\n",
       "       [0.04816451, 0.95183549],\n",
       "       [0.8519296 , 0.1480704 ],\n",
       "       [0.87107453, 0.12892547],\n",
       "       [0.83148885, 0.16851115],\n",
       "       [0.89604818, 0.10395182],\n",
       "       [0.05199913, 0.94800087],\n",
       "       [0.80139764, 0.19860236],\n",
       "       [0.88833936, 0.11166064],\n",
       "       [0.65190461, 0.34809539],\n",
       "       [0.81636053, 0.18363947],\n",
       "       [0.16435946, 0.83564054],\n",
       "       [0.87716795, 0.12283205],\n",
       "       [0.20508323, 0.79491677],\n",
       "       [0.35480899, 0.64519101],\n",
       "       [0.06902317, 0.93097683],\n",
       "       [0.8668928 , 0.1331072 ],\n",
       "       [0.05102125, 0.94897875],\n",
       "       [0.04958255, 0.95041745],\n",
       "       [0.84658686, 0.15341314],\n",
       "       [0.87452191, 0.12547809],\n",
       "       [0.12555354, 0.87444646],\n",
       "       [0.88833936, 0.11166064],\n",
       "       [0.88833936, 0.11166064],\n",
       "       [0.7655459 , 0.2344541 ],\n",
       "       [0.76777788, 0.23222212],\n",
       "       [0.88833936, 0.11166064],\n",
       "       [0.36942878, 0.63057122],\n",
       "       [0.92426022, 0.07573978],\n",
       "       [0.07116211, 0.92883789],\n",
       "       [0.89925231, 0.10074769],\n",
       "       [0.49442648, 0.50557352],\n",
       "       [0.03491194, 0.96508806],\n",
       "       [0.49826009, 0.50173991],\n",
       "       [0.90546994, 0.09453006],\n",
       "       [0.05196824, 0.94803176],\n",
       "       [0.90242802, 0.09757198],\n",
       "       [0.46989234, 0.53010766],\n",
       "       [0.87158299, 0.12841701],\n",
       "       [0.85888428, 0.14111572],\n",
       "       [0.85192991, 0.14807009],\n",
       "       [0.55054246, 0.44945754],\n",
       "       [0.89226289, 0.10773711],\n",
       "       [0.88298402, 0.11701598],\n",
       "       [0.8910747 , 0.1089253 ],\n",
       "       [0.59671102, 0.40328898],\n",
       "       [0.34622153, 0.65377847],\n",
       "       [0.88796516, 0.11203484],\n",
       "       [0.92896539, 0.07103461],\n",
       "       [0.8756609 , 0.1243391 ],\n",
       "       [0.80162991, 0.19837009],\n",
       "       [0.07407292, 0.92592708],\n",
       "       [0.93131693, 0.06868307],\n",
       "       [0.88834829, 0.11165171],\n",
       "       [0.86931122, 0.13068878],\n",
       "       [0.93636435, 0.06363565],\n",
       "       [0.67823706, 0.32176294],\n",
       "       [0.98838857, 0.01161143],\n",
       "       [0.88834829, 0.11165171],\n",
       "       [0.88375772, 0.11624228],\n",
       "       [0.68339121, 0.31660879],\n",
       "       [0.32218688, 0.67781312],\n",
       "       [0.67846815, 0.32153185],\n",
       "       [0.03491194, 0.96508806],\n",
       "       [0.54623422, 0.45376578],\n",
       "       [0.26474011, 0.73525989],\n",
       "       [0.55750443, 0.44249557],\n",
       "       [0.42994525, 0.57005475],\n",
       "       [0.64931058, 0.35068942],\n",
       "       [0.25160706, 0.74839294],\n",
       "       [0.81378253, 0.18621747],\n",
       "       [0.89602279, 0.10397721],\n",
       "       [0.1966674 , 0.8033326 ],\n",
       "       [0.09111338, 0.90888662],\n",
       "       [0.85192991, 0.14807009],\n",
       "       [0.88196388, 0.11803612],\n",
       "       [0.89877538, 0.10122462],\n",
       "       [0.90833967, 0.09166033],\n",
       "       [0.33230381, 0.66769619],\n",
       "       [0.92430569, 0.07569431],\n",
       "       [0.76638671, 0.23361329],\n",
       "       [0.08183013, 0.91816987],\n",
       "       [0.83185168, 0.16814832],\n",
       "       [0.57152302, 0.42847698],\n",
       "       [0.36844713, 0.63155287],\n",
       "       [0.36319484, 0.63680516],\n",
       "       [0.87722405, 0.12277595],\n",
       "       [0.22222754, 0.77777246],\n",
       "       [0.11904859, 0.88095141],\n",
       "       [0.51248509, 0.48751491],\n",
       "       [0.86699805, 0.13300195],\n",
       "       [0.24843835, 0.75156165],\n",
       "       [0.30945847, 0.69054153],\n",
       "       [0.85016982, 0.14983018],\n",
       "       [0.2071361 , 0.7928639 ],\n",
       "       [0.90870351, 0.09129649],\n",
       "       [0.33310477, 0.66689523],\n",
       "       [0.61967871, 0.38032129],\n",
       "       [0.34853248, 0.65146752],\n",
       "       [0.11586545, 0.88413455],\n",
       "       [0.69107322, 0.30892678],\n",
       "       [0.90832022, 0.09167978],\n",
       "       [0.10694688, 0.89305312],\n",
       "       [0.8883857 , 0.1116143 ],\n",
       "       [0.14570337, 0.85429663],\n",
       "       [0.7495651 , 0.2504349 ],\n",
       "       [0.75985112, 0.24014888],\n",
       "       [0.59932893, 0.40067107],\n",
       "       [0.9376729 , 0.0623271 ],\n",
       "       [0.85887721, 0.14112279],\n",
       "       [0.45503026, 0.54496974],\n",
       "       [0.3731533 , 0.6268467 ]])"
      ]
     },
     "execution_count": 62,
     "metadata": {},
     "output_type": "execute_result"
    }
   ],
   "source": [
    "lr_pred_proba"
   ]
  },
  {
   "cell_type": "code",
   "execution_count": 63,
   "metadata": {},
   "outputs": [
    {
     "data": {
      "text/plain": [
       "array([0.53825482, 0.12136326, 0.122831  , 0.11730552, 0.14472672,\n",
       "       0.11774204, 0.1116143 , 0.79116807, 0.21710397, 0.63062472,\n",
       "       0.10017116, 0.12503105, 0.12283703, 0.11166064, 0.56351654,\n",
       "       0.14106824, 0.09626809, 0.26655455, 0.27521539, 0.82819032,\n",
       "       0.2463721 , 0.38070225, 0.1454336 , 0.18515087, 0.11203484,\n",
       "       0.2344541 , 0.14030754, 0.07414335, 0.2803835 , 0.30448911,\n",
       "       0.94725392, 0.81743691, 0.12678495, 0.82606149, 0.39929651,\n",
       "       0.2344541 , 0.07239757, 0.61122048, 0.05294175, 0.10394955,\n",
       "       0.35050676, 0.08335264, 0.82183903, 0.70772981, 0.63055479,\n",
       "       0.63057122, 0.91890784, 0.35867093, 0.94885868, 0.1120697 ,\n",
       "       0.5930048 , 0.11166064, 0.13283704, 0.72521692, 0.3093133 ,\n",
       "       0.19694884, 0.22626426, 0.12283205, 0.15425977, 0.43218867,\n",
       "       0.280089  , 0.10078533, 0.54554174, 0.51359969, 0.44419836,\n",
       "       0.09462753, 0.66696334, 0.59429486, 0.95183549, 0.1480704 ,\n",
       "       0.12892547, 0.16851115, 0.10395182, 0.94800087, 0.19860236,\n",
       "       0.11166064, 0.34809539, 0.18363947, 0.83564054, 0.12283205,\n",
       "       0.79491677, 0.64519101, 0.93097683, 0.1331072 , 0.94897875,\n",
       "       0.95041745, 0.15341314, 0.12547809, 0.87444646, 0.11166064,\n",
       "       0.11166064, 0.2344541 , 0.23222212, 0.11166064, 0.63057122,\n",
       "       0.07573978, 0.92883789, 0.10074769, 0.50557352, 0.96508806,\n",
       "       0.50173991, 0.09453006, 0.94803176, 0.09757198, 0.53010766,\n",
       "       0.12841701, 0.14111572, 0.14807009, 0.44945754, 0.10773711,\n",
       "       0.11701598, 0.1089253 , 0.40328898, 0.65377847, 0.11203484,\n",
       "       0.07103461, 0.1243391 , 0.19837009, 0.92592708, 0.06868307,\n",
       "       0.11165171, 0.13068878, 0.06363565, 0.32176294, 0.01161143,\n",
       "       0.11165171, 0.11624228, 0.31660879, 0.67781312, 0.32153185,\n",
       "       0.96508806, 0.45376578, 0.73525989, 0.44249557, 0.57005475,\n",
       "       0.35068942, 0.74839294, 0.18621747, 0.10397721, 0.8033326 ,\n",
       "       0.90888662, 0.14807009, 0.11803612, 0.10122462, 0.09166033,\n",
       "       0.66769619, 0.07569431, 0.23361329, 0.91816987, 0.16814832,\n",
       "       0.42847698, 0.63155287, 0.63680516, 0.12277595, 0.77777246,\n",
       "       0.88095141, 0.48751491, 0.13300195, 0.75156165, 0.69054153,\n",
       "       0.14983018, 0.7928639 , 0.09129649, 0.66689523, 0.38032129,\n",
       "       0.65146752, 0.88413455, 0.30892678, 0.09167978, 0.89305312,\n",
       "       0.1116143 , 0.85429663, 0.2504349 , 0.24014888, 0.40067107,\n",
       "       0.0623271 , 0.14112279, 0.54496974, 0.6268467 ])"
      ]
     },
     "execution_count": 63,
     "metadata": {},
     "output_type": "execute_result"
    }
   ],
   "source": [
    "lr_pred_proba[:,1]"
   ]
  },
  {
   "attachments": {},
   "cell_type": "markdown",
   "metadata": {},
   "source": [
    "## sklearn.metrics.precision_recall_curve\n",
    "\n",
    "* sklearn.metrics.precision_recall_curve(_y_true_,  _probas_pred_,  _*_,  _pos_label=None_,  _sample_weight=None_)[[source]](https://github.com/scikit-learn/scikit-learn/blob/364c77e04/sklearn/metrics/_ranking.py#L797)[](https://scikit-learn.org/stable/modules/generated/sklearn.metrics.precision_recall_curve.html#sklearn.metrics.precision_recall_curve \"Permalink to this definition\")\n",
    "\n",
    "* Returns:\n",
    "\n",
    "    **precision**\n",
    "         : ndarray of shape (n_thresholds + 1,)\n",
    "\n",
    "    - Precision values such that element i is the precision of predictions with score >= thresholds[i] and the last element is 1.\n",
    "\n",
    "    **recall**\n",
    "         : ndarray of shape (n_thresholds + 1,)\n",
    "\n",
    "    - Decreasing recall values such that element i is the recall of predictions with score >= thresholds[i] and the last element is 0.\n",
    "\n",
    "    **thresholds**\n",
    "         : ndarray of shape (n_thresholds,)\n",
    "\n",
    "    - Increasing thresholds on the decision function used to compute precision and recall where  `n_thresholds  =  len(np.unique(probas_pred))`."
   ]
  },
  {
   "cell_type": "code",
   "execution_count": 64,
   "metadata": {},
   "outputs": [],
   "source": [
    "from sklearn.metrics import precision_recall_curve\n",
    "\n",
    "data = precision_recall_curve(y_test, lr_pred_proba[:,1])"
   ]
  },
  {
   "cell_type": "code",
   "execution_count": 65,
   "metadata": {},
   "outputs": [
    {
     "data": {
      "text/plain": [
       "(array([0.34078212, 0.34269663, 0.34463277, 0.34659091, 0.34857143,\n",
       "        0.35057471, 0.35260116, 0.35465116, 0.35672515, 0.35882353,\n",
       "        0.36094675, 0.36309524, 0.36526946, 0.36746988, 0.36969697,\n",
       "        0.37195122, 0.37423313, 0.37654321, 0.37888199, 0.38125   ,\n",
       "        0.3836478 , 0.38607595, 0.38853503, 0.38461538, 0.38709677,\n",
       "        0.38961039, 0.38562092, 0.38815789, 0.39333333, 0.39864865,\n",
       "        0.41549296, 0.42142857, 0.42446043, 0.42753623, 0.43065693,\n",
       "        0.43382353, 0.43703704, 0.44029851, 0.43609023, 0.43939394,\n",
       "        0.44274809, 0.44186047, 0.4453125 , 0.4488189 , 0.45238095,\n",
       "        0.448     , 0.4516129 , 0.44715447, 0.45081967, 0.45454545,\n",
       "        0.45833333, 0.46218487, 0.46610169, 0.47008547, 0.47413793,\n",
       "        0.47826087, 0.48245614, 0.48672566, 0.49107143, 0.5       ,\n",
       "        0.50458716, 0.50925926, 0.51401869, 0.51886792, 0.52380952,\n",
       "        0.52884615, 0.53398058, 0.53921569, 0.54455446, 0.55      ,\n",
       "        0.55555556, 0.56122449, 0.56701031, 0.57291667, 0.57894737,\n",
       "        0.58510638, 0.6043956 , 0.61111111, 0.61797753, 0.625     ,\n",
       "        0.63218391, 0.63953488, 0.64705882, 0.6547619 , 0.6626506 ,\n",
       "        0.65853659, 0.66666667, 0.675     , 0.6835443 , 0.69230769,\n",
       "        0.68831169, 0.69736842, 0.70666667, 0.7027027 , 0.71232877,\n",
       "        0.72222222, 0.71830986, 0.72857143, 0.72463768, 0.73529412,\n",
       "        0.74626866, 0.75757576, 0.75384615, 0.765625  , 0.76190476,\n",
       "        0.77419355, 0.78688525, 0.8       , 0.81355932, 0.82758621,\n",
       "        0.8245614 , 0.83928571, 0.83636364, 0.85185185, 0.86792453,\n",
       "        0.88461538, 0.88235294, 0.9       , 0.89795918, 0.91666667,\n",
       "        0.91304348, 0.91111111, 0.90909091, 0.93023256, 0.92857143,\n",
       "        0.95121951, 0.95      , 0.94871795, 0.94736842, 0.94594595,\n",
       "        0.94444444, 0.94285714, 0.94117647, 0.93939394, 0.9375    ,\n",
       "        0.93548387, 0.96666667, 0.96551724, 0.96428571, 0.96296296,\n",
       "        0.96153846, 0.96      , 0.95833333, 0.95652174, 0.95454545,\n",
       "        0.95238095, 0.95      , 0.94736842, 0.94444444, 0.94117647,\n",
       "        0.9375    , 0.93333333, 1.        , 1.        , 1.        ,\n",
       "        1.        , 1.        , 1.        , 1.        , 1.        ,\n",
       "        1.        , 1.        , 1.        , 1.        , 1.        ,\n",
       "        1.        ]),\n",
       " array([1.        , 1.        , 1.        , 1.        , 1.        ,\n",
       "        1.        , 1.        , 1.        , 1.        , 1.        ,\n",
       "        1.        , 1.        , 1.        , 1.        , 1.        ,\n",
       "        1.        , 1.        , 1.        , 1.        , 1.        ,\n",
       "        1.        , 1.        , 1.        , 0.98360656, 0.98360656,\n",
       "        0.98360656, 0.96721311, 0.96721311, 0.96721311, 0.96721311,\n",
       "        0.96721311, 0.96721311, 0.96721311, 0.96721311, 0.96721311,\n",
       "        0.96721311, 0.96721311, 0.96721311, 0.95081967, 0.95081967,\n",
       "        0.95081967, 0.93442623, 0.93442623, 0.93442623, 0.93442623,\n",
       "        0.91803279, 0.91803279, 0.90163934, 0.90163934, 0.90163934,\n",
       "        0.90163934, 0.90163934, 0.90163934, 0.90163934, 0.90163934,\n",
       "        0.90163934, 0.90163934, 0.90163934, 0.90163934, 0.90163934,\n",
       "        0.90163934, 0.90163934, 0.90163934, 0.90163934, 0.90163934,\n",
       "        0.90163934, 0.90163934, 0.90163934, 0.90163934, 0.90163934,\n",
       "        0.90163934, 0.90163934, 0.90163934, 0.90163934, 0.90163934,\n",
       "        0.90163934, 0.90163934, 0.90163934, 0.90163934, 0.90163934,\n",
       "        0.90163934, 0.90163934, 0.90163934, 0.90163934, 0.90163934,\n",
       "        0.8852459 , 0.8852459 , 0.8852459 , 0.8852459 , 0.8852459 ,\n",
       "        0.86885246, 0.86885246, 0.86885246, 0.85245902, 0.85245902,\n",
       "        0.85245902, 0.83606557, 0.83606557, 0.81967213, 0.81967213,\n",
       "        0.81967213, 0.81967213, 0.80327869, 0.80327869, 0.78688525,\n",
       "        0.78688525, 0.78688525, 0.78688525, 0.78688525, 0.78688525,\n",
       "        0.7704918 , 0.7704918 , 0.75409836, 0.75409836, 0.75409836,\n",
       "        0.75409836, 0.73770492, 0.73770492, 0.72131148, 0.72131148,\n",
       "        0.68852459, 0.67213115, 0.6557377 , 0.6557377 , 0.63934426,\n",
       "        0.63934426, 0.62295082, 0.60655738, 0.59016393, 0.57377049,\n",
       "        0.55737705, 0.54098361, 0.52459016, 0.50819672, 0.49180328,\n",
       "        0.47540984, 0.47540984, 0.45901639, 0.44262295, 0.42622951,\n",
       "        0.40983607, 0.39344262, 0.37704918, 0.36065574, 0.3442623 ,\n",
       "        0.32786885, 0.31147541, 0.29508197, 0.27868852, 0.26229508,\n",
       "        0.24590164, 0.2295082 , 0.2295082 , 0.21311475, 0.19672131,\n",
       "        0.18032787, 0.16393443, 0.14754098, 0.13114754, 0.1147541 ,\n",
       "        0.09836066, 0.08196721, 0.06557377, 0.04918033, 0.03278689,\n",
       "        0.        ]),\n",
       " array([0.01161143, 0.05294175, 0.0623271 , 0.06363565, 0.06868307,\n",
       "        0.07103461, 0.07239757, 0.07414335, 0.07569431, 0.07573978,\n",
       "        0.08335264, 0.09129649, 0.09166033, 0.09167978, 0.09453006,\n",
       "        0.09462753, 0.09626809, 0.09757198, 0.10017116, 0.10074769,\n",
       "        0.10078533, 0.10122462, 0.10394955, 0.10395182, 0.10397721,\n",
       "        0.10773711, 0.1089253 , 0.1116143 , 0.11165171, 0.11166064,\n",
       "        0.11203484, 0.1120697 , 0.11624228, 0.11701598, 0.11730552,\n",
       "        0.11774204, 0.11803612, 0.12136326, 0.12277595, 0.122831  ,\n",
       "        0.12283205, 0.12283703, 0.1243391 , 0.12503105, 0.12547809,\n",
       "        0.12678495, 0.12841701, 0.12892547, 0.13068878, 0.13283704,\n",
       "        0.13300195, 0.1331072 , 0.14030754, 0.14106824, 0.14111572,\n",
       "        0.14112279, 0.14472672, 0.1454336 , 0.14807009, 0.1480704 ,\n",
       "        0.14983018, 0.15341314, 0.15425977, 0.16814832, 0.16851115,\n",
       "        0.18363947, 0.18515087, 0.18621747, 0.19694884, 0.19837009,\n",
       "        0.19860236, 0.21710397, 0.22626426, 0.23222212, 0.23361329,\n",
       "        0.2344541 , 0.24014888, 0.2463721 , 0.2504349 , 0.26655455,\n",
       "        0.27521539, 0.280089  , 0.2803835 , 0.30448911, 0.30892678,\n",
       "        0.3093133 , 0.31660879, 0.32153185, 0.32176294, 0.34809539,\n",
       "        0.35050676, 0.35068942, 0.35867093, 0.38032129, 0.38070225,\n",
       "        0.39929651, 0.40067107, 0.40328898, 0.42847698, 0.43218867,\n",
       "        0.44249557, 0.44419836, 0.44945754, 0.45376578, 0.48751491,\n",
       "        0.50173991, 0.50557352, 0.51359969, 0.53010766, 0.53825482,\n",
       "        0.54496974, 0.54554174, 0.56351654, 0.57005475, 0.5930048 ,\n",
       "        0.59429486, 0.61122048, 0.6268467 , 0.63055479, 0.63057122,\n",
       "        0.63062472, 0.63155287, 0.63680516, 0.64519101, 0.65146752,\n",
       "        0.65377847, 0.66689523, 0.66696334, 0.66769619, 0.67781312,\n",
       "        0.69054153, 0.70772981, 0.72521692, 0.73525989, 0.74839294,\n",
       "        0.75156165, 0.77777246, 0.79116807, 0.7928639 , 0.79491677,\n",
       "        0.8033326 , 0.81743691, 0.82183903, 0.82606149, 0.82819032,\n",
       "        0.83564054, 0.85429663, 0.87444646, 0.88095141, 0.88413455,\n",
       "        0.89305312, 0.90888662, 0.91816987, 0.91890784, 0.92592708,\n",
       "        0.92883789, 0.93097683, 0.94725392, 0.94800087, 0.94803176,\n",
       "        0.94885868, 0.94897875, 0.95041745, 0.95183549, 0.96508806]))"
      ]
     },
     "execution_count": 65,
     "metadata": {},
     "output_type": "execute_result"
    }
   ],
   "source": [
    "data"
   ]
  },
  {
   "cell_type": "code",
   "execution_count": 66,
   "metadata": {},
   "outputs": [
    {
     "data": {
      "text/plain": [
       "Text(0, 0.5, 'probability density')"
      ]
     },
     "execution_count": 66,
     "metadata": {},
     "output_type": "execute_result"
    },
    {
     "data": {
      "image/png": "[encoded data removed]",
      "text/plain": [
       "<Figure size 640x480 with 1 Axes>"
      ]
     },
     "metadata": {},
     "output_type": "display_data"
    }
   ],
   "source": [
    "# precision\n",
    "plt.plot(data[0])\n",
    "# recall\n",
    "plt.plot(data[1])\n",
    "\n",
    "#\n",
    "plt.xticks()\n",
    "\n",
    "# 축 이름 설정\n",
    "plt.xlabel('threshold')\n",
    "plt.ylabel('probability density')"
   ]
  },
  {
   "attachments": {},
   "cell_type": "markdown",
   "metadata": {},
   "source": [
    "## sklearn.metrics.roc_curve\n",
    "\n",
    "* sklearn.metrics.roc_curve(_y_true_,  _y_score_,  _*_,  _pos_label=None_,  _sample_weight=None_,  _drop_intermediate=True_)[[source]](https://github.com/scikit-learn/scikit-learn/blob/364c77e04/sklearn/metrics/_ranking.py#L904)[](https://scikit-learn.org/stable/modules/generated/sklearn.metrics.roc_curve.html#sklearn.metrics.roc_curve \"Permalink to this definition\")\n",
    "\n",
    "\n",
    "* Returns:\n",
    "\n",
    "\t**fpr**\n",
    "\t: ndarray of shape (>2,)\n",
    "\n",
    "\t\t- Increasing false positive rates such that element i is the false positive rate of predictions with score >=  `thresholds[i]`.\n",
    "\n",
    "\t**tpr**\n",
    "\t: ndarray of shape (>2,)\n",
    "\n",
    "\t\t- Increasing true positive rates such that element  `i`  is the true positive rate of predictions with score >=  `thresholds[i]`.\n",
    "\n",
    "\t**thresholds**\n",
    "\t: ndarray of shape = (n_thresholds,)\n",
    "\n",
    "\t\t- Decreasing thresholds on the decision function used to compute fpr and tpr.  `thresholds[0]`  represents no instances being predicted and is arbitrarily set to  `max(y_score)  +  1`."
   ]
  },
  {
   "cell_type": "code",
   "execution_count": 71,
   "metadata": {},
   "outputs": [
    {
     "name": "stdout",
     "output_type": "stream",
     "text": [
      "샘플 추출을 위한 임계값 배열의 index :  [ 1  6 11 16 21 26 31 36 41 46 51]\n",
      "샘플 index로 추출한 임계값 :  [0.97 0.65 0.63 0.56 0.45 0.4  0.35 0.15 0.13 0.11 0.11]\n",
      "샘플 임계값별 FPR :  [0.    0.017 0.034 0.076 0.127 0.169 0.203 0.466 0.585 0.686 0.797]\n",
      "샘플 임계값별 TPR :  [0.033 0.639 0.721 0.754 0.803 0.836 0.885 0.902 0.934 0.967 0.984]\n"
     ]
    }
   ],
   "source": [
    "from sklearn.metrics import roc_curve\n",
    "\n",
    "# 레이블 값이 1일때의 예측 확률을 추출\n",
    "pred_proba_class1 = lr_clf.predict_proba(X_test)[:, 1]\n",
    "\n",
    "fprs, tprs, thresholds = roc_curve(y_test, pred_proba_class1)\n",
    "\n",
    "# 반환된 임계값 배열에서 샘플로 데이터를 추출하되, 임계값을 5 Step으로 추출\n",
    "# thresholds[0]은 max(예측확률)+1 로 임의 설정됨. 이를 제외하기 위해 np.arrange는 1부터 시작\n",
    "thr_index = np.arange(1, thresholds.shape[0], 5)\n",
    "\n",
    "print('샘플 추출을 위한 임계값 배열의 index : ', thr_index)\n",
    "print('샘플 index로 추출한 임계값 : ', np.round(thresholds[thr_index], 2))\n",
    "\n",
    "# 5 step 단위로 추출된 임계값에 따른 FPR, TPR 값\n",
    "print('샘플 임계값별 FPR : ', np.round(fprs[thr_index], 3))\n",
    "print('샘플 임계값별 TPR : ', np.round(tprs[thr_index], 3))\n"
   ]
  },
  {
   "cell_type": "code",
   "execution_count": 76,
   "metadata": {},
   "outputs": [
    {
     "data": {
      "text/plain": [
       "(array([0.        , 0.        , 0.        , 0.00847458, 0.00847458,\n",
       "        0.01694915, 0.01694915, 0.02542373, 0.02542373, 0.03389831,\n",
       "        0.03389831, 0.03389831, 0.04237288, 0.04237288, 0.05084746,\n",
       "        0.05084746, 0.07627119, 0.07627119, 0.08474576, 0.08474576,\n",
       "        0.12711864, 0.12711864, 0.13559322, 0.13559322, 0.16101695,\n",
       "        0.16101695, 0.16949153, 0.16949153, 0.18644068, 0.18644068,\n",
       "        0.20338983, 0.20338983, 0.23728814, 0.23728814, 0.30508475,\n",
       "        0.33050847, 0.46610169, 0.48305085, 0.57627119, 0.57627119,\n",
       "        0.58474576, 0.58474576, 0.61016949, 0.61864407, 0.63559322,\n",
       "        0.63559322, 0.68644068, 0.70338983, 0.75423729, 0.78813559,\n",
       "        0.79661017, 0.79661017, 0.81355932, 0.81355932, 1.        ]),\n",
       " array([0.        , 0.03278689, 0.2295082 , 0.2295082 , 0.47540984,\n",
       "        0.47540984, 0.63934426, 0.63934426, 0.6557377 , 0.6557377 ,\n",
       "        0.68852459, 0.72131148, 0.72131148, 0.73770492, 0.73770492,\n",
       "        0.75409836, 0.75409836, 0.7704918 , 0.7704918 , 0.78688525,\n",
       "        0.78688525, 0.80327869, 0.80327869, 0.81967213, 0.81967213,\n",
       "        0.83606557, 0.83606557, 0.85245902, 0.85245902, 0.86885246,\n",
       "        0.86885246, 0.8852459 , 0.8852459 , 0.90163934, 0.90163934,\n",
       "        0.90163934, 0.90163934, 0.90163934, 0.90163934, 0.91803279,\n",
       "        0.91803279, 0.93442623, 0.93442623, 0.95081967, 0.95081967,\n",
       "        0.96721311, 0.96721311, 0.96721311, 0.96721311, 0.96721311,\n",
       "        0.96721311, 0.98360656, 0.98360656, 1.        , 1.        ]),\n",
       " array([1.96508806, 0.96508806, 0.91816987, 0.90888662, 0.77777246,\n",
       "        0.75156165, 0.65377847, 0.65146752, 0.64519101, 0.63680516,\n",
       "        0.63062472, 0.63057122, 0.63055479, 0.6268467 , 0.61122048,\n",
       "        0.59429486, 0.56351654, 0.54554174, 0.54496974, 0.53825482,\n",
       "        0.48751491, 0.45376578, 0.44945754, 0.44419836, 0.42847698,\n",
       "        0.40328898, 0.40067107, 0.39929651, 0.38032129, 0.35867093,\n",
       "        0.35050676, 0.34809539, 0.3093133 , 0.30892678, 0.24014888,\n",
       "        0.2344541 , 0.1480704 , 0.14807009, 0.12892547, 0.12841701,\n",
       "        0.12678495, 0.12547809, 0.12283703, 0.12283205, 0.12277595,\n",
       "        0.12136326, 0.1120697 , 0.11203484, 0.11166064, 0.1116143 ,\n",
       "        0.1089253 , 0.10773711, 0.10395182, 0.10394955, 0.01161143]))"
      ]
     },
     "execution_count": 76,
     "metadata": {},
     "output_type": "execute_result"
    }
   ],
   "source": [
    "roc_curve(y_test, pred_proba_class1)"
   ]
  },
  {
   "cell_type": "code",
   "execution_count": 78,
   "metadata": {},
   "outputs": [
    {
     "data": {
      "image/png": "[encoded data removed]",
      "text/plain": [
       "<Figure size 640x480 with 1 Axes>"
      ]
     },
     "metadata": {},
     "output_type": "display_data"
    }
   ],
   "source": [
    "# 그래프 그리기 위한 함수 생성\n",
    "def roc_curve_plot(y_test, pred_proba_c1) :\n",
    "    # 임계값에 따른 FPR, TPR 값을 반환 받음\n",
    "    fprs, tprs, thresholds = roc_curve(y_test, pred_proba_c1)\n",
    "\n",
    "    # ROC Curve를 plot 곡선으로 그림\n",
    "    plt.plot(fprs, tprs, label = 'ROC')\n",
    "\n",
    "    # 가운데 대각선 직선을 그림\n",
    "    plt.plot([0,1], [0,1], 'k--', label = 'Random')\n",
    "\n",
    "    # FPR X축의 Scale을 0, 1 단위로 변경, X, Y 축명 설정 등\n",
    "    start, end = plt.xlim()\n",
    "    plt.xticks(np.round(np.arange(start, end, 0.1),2))\n",
    "    plt.xlim(0,1)\n",
    "    plt.ylim(0,1)\n",
    "    plt.xlabel('FPR( 1 - Sensitivity)')\n",
    "    plt.ylabel('TPR( Recall )')\n",
    "    plt.legend()\n",
    "    plt.show()\n",
    "\n",
    "roc_curve_plot(y_test, lr_clf.predict_proba(X_test)[:,1])"
   ]
  },
  {
   "cell_type": "code",
   "execution_count": 74,
   "metadata": {},
   "outputs": [
    {
     "name": "stdout",
     "output_type": "stream",
     "text": [
      "ROC AUC 값 : 0.9024\n"
     ]
    }
   ],
   "source": [
    "from sklearn.metrics import roc_auc_score\n",
    "\n",
    "# pred = lr_clf.predict(X_test)\n",
    "# roc_score = roc_auc_score(y_test, pred)\n",
    "\n",
    "pred_proba = lr_clf.predict_proba(X_test)[:,1]\n",
    "roc_score = roc_auc_score(y_test, pred_proba)\n",
    "\n",
    "print(f'ROC AUC 값 : {roc_score:.4f}')"
   ]
  }
 ],
 "metadata": {
  "kernelspec": {
   "display_name": "Python 3",
   "language": "python",
   "name": "python3"
  },
  "language_info": {
   "codemirror_mode": {
    "name": "ipython",
    "version": 3
   },
   "file_extension": ".py",
   "mimetype": "text/x-python",
   "name": "python",
   "nbconvert_exporter": "python",
   "pygments_lexer": "ipython3",
   "version": "3.10.9"
  },
  "orig_nbformat": 4
 },
 "nbformat": 4,
 "nbformat_minor": 2
}
